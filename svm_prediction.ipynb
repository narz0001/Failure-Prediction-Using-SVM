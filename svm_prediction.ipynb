{
 "cells": [
  {
   "cell_type": "markdown",
   "source": [
    "# Using Support Vector Machine for Prediction of Faulty Machines"
   ],
   "metadata": {
    "collapsed": false
   },
   "id": "8635e69cadf157eb"
  },
  {
   "cell_type": "markdown",
   "source": [
    "## Package import and data read"
   ],
   "metadata": {
    "collapsed": false
   },
   "id": "68e60d9dab660cd5"
  },
  {
   "cell_type": "code",
   "execution_count": 8,
   "outputs": [
    {
     "name": "stdout",
     "output_type": "stream",
     "text": [
      "<class 'pandas.core.frame.DataFrame'>\n",
      "RangeIndex: 1140 entries, 0 to 1139\n",
      "Data columns (total 5 columns):\n",
      " #   Column                     Non-Null Count  Dtype  \n",
      "---  ------                     --------------  -----  \n",
      " 0   temperature of brake pads  1140 non-null   float64\n",
      " 1   faulty                     1140 non-null   int64  \n",
      " 2   sensor1                    1140 non-null   float64\n",
      " 3   sensor2                    1140 non-null   float64\n",
      " 4   machineload                1140 non-null   int64  \n",
      "dtypes: float64(3), int64(2)\n",
      "memory usage: 44.7 KB\n"
     ]
    }
   ],
   "source": [
    "import pandas as pd\n",
    "\n",
    "df = pd.read_csv(\"machine_failure.csv\")\n",
    "df.head(10)\n",
    "df.info()"
   ],
   "metadata": {
    "collapsed": false,
    "ExecuteTime": {
     "end_time": "2023-10-02T12:51:27.547047Z",
     "start_time": "2023-10-02T12:51:27.495993Z"
    }
   },
   "id": "5994af6100a16d"
  },
  {
   "cell_type": "markdown",
   "source": [
    "## Data split into train and test"
   ],
   "metadata": {
    "collapsed": false
   },
   "id": "c11691138ddc6673"
  },
  {
   "cell_type": "code",
   "execution_count": 9,
   "outputs": [],
   "source": [
    "from sklearn.model_selection import train_test_split\n",
    "\n",
    "X_train, X_test, y_train, y_test = train_test_split(df[['temperature of brake pads','sensor1','sensor2','machineload']], df['faulty'], test_size=0.2, random_state=1)"
   ],
   "metadata": {
    "collapsed": false,
    "ExecuteTime": {
     "end_time": "2023-10-02T12:52:14.460890Z",
     "start_time": "2023-10-02T12:52:14.362068Z"
    }
   },
   "id": "3dbe1a0a89eb8417"
  },
  {
   "cell_type": "code",
   "execution_count": null,
   "outputs": [],
   "source": [],
   "metadata": {
    "collapsed": false
   },
   "id": "441b7628241eb9c2"
  }
 ],
 "metadata": {
  "kernelspec": {
   "display_name": "Python 3",
   "language": "python",
   "name": "python3"
  },
  "language_info": {
   "codemirror_mode": {
    "name": "ipython",
    "version": 2
   },
   "file_extension": ".py",
   "mimetype": "text/x-python",
   "name": "python",
   "nbconvert_exporter": "python",
   "pygments_lexer": "ipython2",
   "version": "2.7.6"
  }
 },
 "nbformat": 4,
 "nbformat_minor": 5
}
